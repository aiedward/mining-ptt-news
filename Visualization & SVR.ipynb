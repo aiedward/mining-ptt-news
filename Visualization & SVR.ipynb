{
 "cells": [
  {
   "cell_type": "code",
   "execution_count": 1,
   "metadata": {
    "collapsed": false
   },
   "outputs": [],
   "source": [
    "# init\n",
    "\n",
    "from pprint import pprint\n",
    "\n",
    "%matplotlib inline\n",
    "import matplotlib\n",
    "matplotlib.style.use('ggplot')\n",
    "\n",
    "import numpy as np\n",
    "import pandas as pd\n",
    "\n",
    "# ref: http://scikit-learn.org/stable/modules/feature_extraction.html\n",
    "from sklearn.feature_extraction.text import CountVectorizer\n",
    "from sklearn.feature_extraction.text import TfidfTransformer\n",
    "# http://scikit-learn.org/stable/modules/cross_validation.html#computing-cross-validated-metrics\n",
    "from sklearn.model_selection import train_test_split\n",
    "# ref: http://scikit-learn.org/stable/modules/svm.html#regression\n",
    "from sklearn import svm"
   ]
  },
  {
   "cell_type": "code",
   "execution_count": 2,
   "metadata": {
    "collapsed": false
   },
   "outputs": [],
   "source": [
    "# sample data and targets\n",
    "\n",
    "N = 100\n",
    "\n",
    "sampled_lines = []\n",
    "#with open('corpus.txt') as f:\n",
    "with open('corpus1.txt') as f:\n",
    "    for i in range(N):\n",
    "        sampled_lines.append(next(f))\n",
    "        \n",
    "sampled_targets = []\n",
    "with open('target.txt') as f:\n",
    "    for i in range(N):\n",
    "        sampled_targets.append(int(next(f)))\n",
    "        \n",
    "# sampled_lines = [\n",
    "#     'hello world',\n",
    "#     'hello mosky',\n",
    "# ]\n",
    "\n",
    "# sampled_lines"
   ]
  },
  {
   "cell_type": "code",
   "execution_count": 3,
   "metadata": {
    "collapsed": false
   },
   "outputs": [
    {
     "data": {
      "text/plain": [
       "<100x9509 sparse matrix of type '<class 'numpy.int64'>'\n",
       "\twith 20645 stored elements in Compressed Sparse Row format>"
      ]
     },
     "execution_count": 3,
     "metadata": {},
     "output_type": "execute_result"
    }
   ],
   "source": [
    "# vectorize\n",
    "\n",
    "# The default configuration tokenizes the string by extracting words of at least 2 letters.\n",
    "vectorizer = CountVectorizer(min_df=1, analyzer=lambda s: s.split(' '))\n",
    "line_term_count_sm = vectorizer.fit_transform(sampled_lines)\n",
    "line_term_count_sm\n",
    "#pprint(vectorizer.vocabulary_)\n",
    "#pprint(line_term_count_m.toarray())"
   ]
  },
  {
   "cell_type": "code",
   "execution_count": 4,
   "metadata": {
    "collapsed": false
   },
   "outputs": [
    {
     "data": {
      "text/plain": [
       "<matplotlib.axes._subplots.AxesSubplot at 0x10b089d30>"
      ]
     },
     "execution_count": 4,
     "metadata": {},
     "output_type": "execute_result"
    },
    {
     "data": {
      "image/png": "[encoded data removed]",
      "text/plain": [
       "<matplotlib.figure.Figure at 0x10f473588>"
      ]
     },
     "metadata": {},
     "output_type": "display_data"
    }
   ],
   "source": [
    "# plot the term-count\n",
    "\n",
    "line_term_count_a = line_term_count_sm.toarray()\n",
    "# https://docs.scipy.org/doc/numpy/reference/generated/numpy.sum.html\n",
    "term_count_a = line_term_count_a.sum(axis=0)\n",
    "#print(term_count_a.shape)\n",
    "\n",
    "# https://docs.scipy.org/doc/numpy/reference/generated/numpy.sort.html#numpy.sort\n",
    "# .sort will sort in-place\n",
    "sorted_term_count_a = np.sort(term_count_a)\n",
    "term_count_s = pd.Series(sorted_term_count_a)\n",
    "term_count_s.plot()"
   ]
  },
  {
   "cell_type": "code",
   "execution_count": 5,
   "metadata": {
    "collapsed": false
   },
   "outputs": [
    {
     "name": "stdout",
     "output_type": "stream",
     "text": [
      "的\n",
      "在\n",
      "是\n",
      "與\n"
     ]
    }
   ],
   "source": [
    "# print top count terms\n",
    "\n",
    "# cidx: column index\n",
    "cidx_term_map = {cidx: term for term, cidx in vectorizer.vocabulary_.items()}\n",
    "sorted_term_idx_a = term_count_a.argsort()\n",
    "print(cidx_term_map[sorted_term_idx_a[-1]])\n",
    "print(cidx_term_map[sorted_term_idx_a[-2]])\n",
    "print(cidx_term_map[sorted_term_idx_a[-3]])\n",
    "print(cidx_term_map[sorted_term_idx_a[-10]])\n",
    "#print(cidx_term_map[sorted_term_idx_a[-100]])\n",
    "#print(cidx_term_map[sorted_term_idx_a[-1000]])\n",
    "#print(cidx_term_map[sorted_term_idx_a[-10000]])\n",
    "#print(cidx_term_map[sorted_term_idx_a[-100000]])"
   ]
  },
  {
   "cell_type": "code",
   "execution_count": 6,
   "metadata": {
    "collapsed": false
   },
   "outputs": [
    {
     "data": {
      "text/plain": [
       "<matplotlib.axes._subplots.AxesSubplot at 0x1100f9320>"
      ]
     },
     "execution_count": 6,
     "metadata": {},
     "output_type": "execute_result"
    },
    {
     "data": {
      "image/png": "[encoded data removed]",
      "text/plain": [
       "<matplotlib.figure.Figure at 0x10f746470>"
      ]
     },
     "metadata": {},
     "output_type": "display_data"
    }
   ],
   "source": [
    "from collections import Counter\n",
    "s = pd.Series(sampled_targets)\n",
    "s.plot.hist(bins=100)"
   ]
  },
  {
   "cell_type": "code",
   "execution_count": 7,
   "metadata": {
    "collapsed": false
   },
   "outputs": [
    {
     "data": {
      "text/plain": [
       "<100x9509 sparse matrix of type '<class 'numpy.float64'>'\n",
       "\twith 20645 stored elements in Compressed Sparse Row format>"
      ]
     },
     "execution_count": 7,
     "metadata": {},
     "output_type": "execute_result"
    }
   ],
   "source": [
    "transformer = TfidfTransformer()\n",
    "line_term_tfidf_sm = transformer.fit_transform(line_term_count_sm)\n",
    "line_term_tfidf_sm"
   ]
  },
  {
   "cell_type": "code",
   "execution_count": 8,
   "metadata": {
    "collapsed": false
   },
   "outputs": [],
   "source": [
    "x_train, x_test, y_train, y_test = train_test_split(line_term_tfidf_sm, sampled_targets)"
   ]
  },
  {
   "cell_type": "code",
   "execution_count": 9,
   "metadata": {
    "collapsed": false
   },
   "outputs": [
    {
     "data": {
      "text/plain": [
       "-0.09286392124818077"
      ]
     },
     "execution_count": 9,
     "metadata": {},
     "output_type": "execute_result"
    }
   ],
   "source": [
    "clf = svm.SVR()\n",
    "clf.fit(x_train, y_train)\n",
    "clf.score(x_test, y_test)"
   ]
  }
 ],
 "metadata": {
  "kernelspec": {
   "display_name": "Python 3",
   "language": "python",
   "name": "python3"
  },
  "language_info": {
   "codemirror_mode": {
    "name": "ipython",
    "version": 3
   },
   "file_extension": ".py",
   "mimetype": "text/x-python",
   "name": "python",
   "nbconvert_exporter": "python",
   "pygments_lexer": "ipython3",
   "version": "3.5.2"
  }
 },
 "nbformat": 4,
 "nbformat_minor": 1
}
