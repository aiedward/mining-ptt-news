{
 "cells": [
  {
   "cell_type": "markdown",
   "metadata": {},
   "source": [
    "fetch corpus from `title_sample.txt` and use `TfidfVectorizer` to generate ngrams's tfidf features"
   ]
  },
  {
   "cell_type": "code",
   "execution_count": 144,
   "metadata": {
    "collapsed": false
   },
   "outputs": [],
   "source": [
    "from sklearn.feature_extraction.text import TfidfTransformer\n",
    "corpus_f = open('/home/crazyplum/mining-news/title_sample.txt', 'r')\n",
    "corpus = corpus_f.readlines()\n",
    "vectorizer = TfidfVectorizer(min_df=1, max_df=0.8, token_pattern=r\"(?u)\\b\\w+\\b\", ngram_range=(1, 2))"
   ]
  },
  {
   "cell_type": "code",
   "execution_count": 148,
   "metadata": {
    "collapsed": false
   },
   "outputs": [],
   "source": [
    "X = vectorizer.fit_transform(corpus)"
   ]
  },
  {
   "cell_type": "code",
   "execution_count": 146,
   "metadata": {
    "collapsed": false
   },
   "outputs": [
    {
     "data": {
      "text/plain": [
       "{'新聞'}"
      ]
     },
     "execution_count": 146,
     "metadata": {},
     "output_type": "execute_result"
    }
   ],
   "source": [
    "vectorizer.stop_words_"
   ]
  },
  {
   "cell_type": "code",
   "execution_count": 149,
   "metadata": {
    "collapsed": false
   },
   "outputs": [],
   "source": [
    "y = [0 if int(x) < 0 else 1 for x in open('/home/crazyplum/mining-news/title_sample_target.txt', 'r')]"
   ]
  },
  {
   "cell_type": "code",
   "execution_count": 26,
   "metadata": {
    "collapsed": false
   },
   "outputs": [
    {
     "data": {
      "text/plain": [
       "10000"
      ]
     },
     "execution_count": 26,
     "metadata": {},
     "output_type": "execute_result"
    }
   ],
   "source": [
    "len(target)"
   ]
  },
  {
   "cell_type": "code",
   "execution_count": 27,
   "metadata": {
    "collapsed": false
   },
   "outputs": [],
   "source": [
    "import numpy as np\n",
    "from sklearn.model_selection import train_test_split"
   ]
  },
  {
   "cell_type": "code",
   "execution_count": 28,
   "metadata": {
    "collapsed": true
   },
   "outputs": [],
   "source": [
    "from sklearn import svm"
   ]
  },
  {
   "cell_type": "code",
   "execution_count": 166,
   "metadata": {
    "collapsed": false
   },
   "outputs": [
    {
     "name": "stdout",
     "output_type": "stream",
     "text": [
      "0.815666666667\n",
      "0.974428571429\n"
     ]
    }
   ],
   "source": [
    "X_train, X_test, y_train, y_test = train_test_split(X, y, test_size=0.3, random_state=10)\n",
    "clf = svm.SVC(kernel='linear', C=1).fit(X_train, y_train)\n",
    "print(clf.score(X_test, y_test))  # validation accuracy\n",
    "print(clf.score(X_train, y_train)) # training set accuracy"
   ]
  },
  {
   "cell_type": "markdown",
   "metadata": {},
   "source": [
    "[accuracy score](http://scikit-learn.org/stable/modules/model_evaluation.html#accuracy-score)"
   ]
  },
  {
   "cell_type": "code",
   "execution_count": 151,
   "metadata": {
    "collapsed": false
   },
   "outputs": [],
   "source": [
    "important_features = np.argsort(clf.coef_[0].toarray())"
   ]
  },
  {
   "cell_type": "code",
   "execution_count": 152,
   "metadata": {
    "collapsed": false
   },
   "outputs": [
    {
     "name": "stdout",
     "output_type": "stream",
     "text": [
      "黑人 -2.71520448385\n",
      "歐陽 -2.57773223815\n",
      "兩岸 -2.50545967762\n",
      "娜娜 -2.24199096216\n",
      "小s -1.98008258688\n",
      "九二 -1.91688027779\n",
      "新聞 蔡 -1.8506235751\n",
      "新聞 黑人 -1.83211860019\n",
      "妮妮 -1.80375444499\n",
      "歐陽 妮妮 -1.68551609062\n",
      "歐陽 娜娜 -1.55033456098\n",
      "新聞 電業 -1.51884760246\n",
      "勞動部 -1.49167049138\n",
      "解決 -1.49049043616\n",
      "工商界 -1.48228572111\n",
      "英文 -1.47121018036\n",
      "柯建銘 -1.46994861205\n",
      "電業 -1.46953926795\n",
      "清算 -1.45855901058\n",
      "勞工 -1.43298852442\n",
      "陳建州 -1.35734923683\n",
      "蔡 英文 -1.34769353905\n",
      "黨產 -1.34402516612\n",
      "政院 -1.31536263364\n",
      "小英 -1.28423308098\n",
      "新聞 國台 -1.2774117168\n",
      "綠營 -1.20574916165\n",
      "夏林清 -1.2025303637\n",
      "新聞 小英 -1.18299605067\n",
      "九二 共識 -1.17145687299\n",
      "邱毅 -1.17054361298\n",
      "新聞 陳建州 -1.14421896507\n",
      "蔡 -1.1235260401\n",
      "范瑋琪 -1.10795355468\n",
      "賀陳旦 -1.10719243628\n",
      "陸 學者 -1.10575041351\n",
      "休 -1.09887495015\n",
      "執政 -1.09129305326\n",
      "感受 -1.09054289042\n",
      "新聞 小s -1.08814408486\n",
      "觀光 -1.08484837629\n",
      "東吳 -1.08454781725\n",
      "學者 -1.07553572917\n",
      "一例 一休 -1.06739787679\n",
      "一休 -1.06466318636\n",
      "認同 -1.06131496243\n",
      "朱立倫 -1.05366985907\n",
      "張志軍 -1.04848653164\n",
      "七休 -1.04424202017\n",
      "大陸 -1.04094387738\n",
      "綠 -1.03620969384\n",
      "新聞 歐陽 -1.03378465563\n",
      "新聞 羅 -1.01784131128\n",
      "羅 -1.0142827715\n",
      "違憲 -0.998089799123\n",
      "少 -0.996523546929\n",
      "台獨 -0.982711434388\n",
      "清算 國民黨 -0.980645420395\n",
      "林全 -0.937909297345\n",
      "鴨 -0.937216180641\n",
      "吳秉叡 -0.937035817965\n",
      "翔翔 -0.936150778324\n",
      "兩岸關係 -0.926850447112\n",
      "新聞 府 -0.922057203668\n",
      "新聞 伊能靜 -0.922055014916\n",
      "伊能靜 -0.922055014916\n",
      "范范 -0.916097977878\n",
      "電價 -0.915806305172\n",
      "恐 -0.913792657926\n",
      "經濟 -0.898755336778\n",
      "林心如 -0.891268406075\n",
      "陳 -0.888162137519\n",
      "自由化 -0.885506494947\n",
      "賴清德 -0.883652395851\n",
      "善意 -0.878746929082\n",
      "新聞 張志軍 -0.87857014202\n",
      "工總 -0.873634118008\n",
      "對抗 -0.868145956818\n",
      "7 休 -0.867377537973\n",
      "休 1 -0.867377537973\n",
      "郭芳煜 -0.865124339281\n",
      "新聞 余天 -0.864505190678\n",
      "我們 -0.863514544283\n",
      "新聞 七休 -0.863028899088\n",
      "日 月光 -0.852809235071\n",
      "月光 -0.852809235071\n",
      "施政 -0.84811925891\n",
      "只要 -0.842675228764\n",
      "一例 -0.838061205646\n",
      "條件 -0.837542362816\n",
      "大家 -0.831480510112\n",
      "非常 -0.827828612937\n",
      "記者會 -0.827402662456\n",
      "藍染 -0.825027692833\n",
      "93 -0.824622265062\n",
      "洪秀柱 -0.817622724566\n",
      "人民 -0.817066246855\n",
      "天國 假 -0.814078353256\n",
      "七休 一 -0.811692209609\n",
      "還要 -0.80803822444\n"
     ]
    }
   ],
   "source": [
    "for f in important_features[0][:100]:\n",
    "    print(vectorizer.get_feature_names()[f], clf.coef_[0, f])"
   ]
  },
  {
   "cell_type": "code",
   "execution_count": 153,
   "metadata": {
    "collapsed": false,
    "scrolled": true
   },
   "outputs": [
    {
     "name": "stdout",
     "output_type": "stream",
     "text": [
      "零 互動 0.433237308953\n",
      "a 0.433875184916\n",
      "吵架 0.435419537847\n",
      "處理 條例 0.439013252984\n",
      "砍 假 0.439640958069\n",
      "即將 0.440022065755\n",
      "擬 0.440566414092\n",
      "砍 七天 0.441286783861\n",
      "實踐 0.445579269897\n",
      "結果 0.448201074066\n",
      "總統 國慶 0.449239715348\n",
      "讓 我 0.451405212788\n",
      "警察 0.451423576294\n",
      "新聞 小 0.452469073369\n",
      "結婚 0.456337890151\n",
      "張忠謀 0.457977462599\n",
      "更新 0.458003077797\n",
      "工鬥 0.459220944943\n",
      "新聞 沒有 0.460319855971\n",
      "洪秀柱 為 0.460406293325\n",
      "傳 0.460520164579\n",
      "揚言 0.460773843527\n",
      "時力 0.461040278966\n",
      "七天 0.461575898099\n",
      "於 0.461897020529\n",
      "永明 0.462377446227\n",
      "徐 永明 0.462377446227\n",
      "台大 0.463907506416\n",
      "律師 0.465419396584\n",
      "新聞 被 0.467776966394\n",
      "跌 0.468305762178\n",
      "登場 0.46844756091\n",
      "強國 0.469093754089\n",
      "大賽 0.46980806666\n",
      "可能 0.471629236925\n",
      "餐廳 0.47341277193\n",
      "專訪 0.476992436133\n",
      "近 0.478757340166\n",
      "注意 0.479450401655\n",
      "醫師 0.479787601767\n",
      "傾向 0.480224342431\n",
      "千元 0.480332977971\n",
      "零 0.481400408673\n",
      "新聞 新北 0.482408690138\n",
      "蔡 總統 0.485490078143\n",
      "立場 0.486338578335\n",
      "柯文 0.489419079384\n",
      "民 0.490597701504\n",
      "英國 0.492700884308\n",
      "卡 0.493755068096\n",
      "關切 0.494324862552\n",
      "新聞 颱風 0.501603339453\n",
      "將 0.502760833465\n",
      "送 0.504307750129\n",
      "公開 道歉 0.504818841164\n",
      "av 0.507827240803\n",
      "提告 0.508873163752\n",
      "起訴 0.509014510261\n",
      "會 被 0.511660533796\n",
      "柯 p 0.516132045584\n",
      "影響 0.519187872109\n",
      "吃 0.522712061945\n",
      "臨時 會 0.524983847225\n",
      "萬元 0.531479836268\n",
      "達 共識 0.532221809087\n",
      "日 0.532333395735\n",
      "主席 0.53543353016\n",
      "中國 網友 0.537717327981\n",
      "元 0.540445639302\n",
      "不知情 0.540945262541\n",
      "中 0.546878530444\n",
      "王奕凱 0.548054202413\n",
      "新聞 林淑芬 0.551981866669\n",
      "辜寬敏 0.557658528494\n",
      "泰國 0.562371944584\n",
      "勝 0.563479167696\n",
      "同性 0.568505116255\n",
      "一句 0.570789284242\n",
      "夜宿 0.589597788834\n",
      "遭 0.602785402167\n",
      "杜特蒂 0.606838508168\n",
      "南韓 0.618978931084\n",
      "宋楚瑜 0.644649664934\n",
      "工會 0.645451996073\n",
      "百日 0.650446724618\n",
      "絕食 0.666228651151\n",
      "icao 0.667626923616\n",
      "中國 0.676351263187\n",
      "中華民國 0.681298523355\n",
      "民調 蔡 0.682723327121\n",
      "中共 0.686333126393\n",
      "日本 0.687583582984\n",
      "要求 0.709186556882\n",
      "再 0.714460932532\n",
      "抗議 0.716121707193\n",
      "面對 0.721589716584\n",
      "曾 0.728589162613\n",
      "林淑芬 0.754788321636\n",
      "民調 0.818359990393\n",
      "軍公教 0.83302236851\n"
     ]
    }
   ],
   "source": [
    "for f in important_features[0][-100:]:\n",
    "    print(vectorizer.get_feature_names()[f], clf.coef_[0, f])"
   ]
  },
  {
   "cell_type": "code",
   "execution_count": 155,
   "metadata": {
    "collapsed": true
   },
   "outputs": [],
   "source": [
    "from sklearn.feature_selection import SelectFromModel\n",
    "lsvc = svm.LinearSVC(C=1, penalty=\"l1\", dual=False).fit(X_train, y_train)\n",
    "model = SelectFromModel(lsvc, prefit=True)"
   ]
  },
  {
   "cell_type": "code",
   "execution_count": 156,
   "metadata": {
    "collapsed": false
   },
   "outputs": [],
   "source": [
    "X_new = model.transform(X_train)"
   ]
  },
  {
   "cell_type": "code",
   "execution_count": 159,
   "metadata": {
    "collapsed": false
   },
   "outputs": [
    {
     "data": {
      "text/plain": [
       "(10000, 100237)"
      ]
     },
     "execution_count": 159,
     "metadata": {},
     "output_type": "execute_result"
    }
   ],
   "source": [
    "X.shape"
   ]
  },
  {
   "cell_type": "code",
   "execution_count": 157,
   "metadata": {
    "collapsed": false
   },
   "outputs": [
    {
     "data": {
      "text/plain": [
       "(7000, 1259)"
      ]
     },
     "execution_count": 157,
     "metadata": {},
     "output_type": "execute_result"
    }
   ],
   "source": [
    "X_new.shape"
   ]
  },
  {
   "cell_type": "code",
   "execution_count": 160,
   "metadata": {
    "collapsed": false
   },
   "outputs": [],
   "source": [
    "new_lsvc = svm.LinearSVC(C=1, penalty=\"l1\", dual=False).fit(X_new, y_train)"
   ]
  },
  {
   "cell_type": "code",
   "execution_count": 161,
   "metadata": {
    "collapsed": false
   },
   "outputs": [
    {
     "data": {
      "text/plain": [
       "0.81233333333333335"
      ]
     },
     "execution_count": 161,
     "metadata": {},
     "output_type": "execute_result"
    }
   ],
   "source": [
    "new_lsvc.score(model.transform(X_test), y_test)"
   ]
  },
  {
   "cell_type": "code",
   "execution_count": 162,
   "metadata": {
    "collapsed": true
   },
   "outputs": [],
   "source": [
    "old_lsvc = svm.LinearSVC(C=1, penalty=\"l1\", dual=False).fit(X_train, y_train)"
   ]
  },
  {
   "cell_type": "code",
   "execution_count": 163,
   "metadata": {
    "collapsed": false
   },
   "outputs": [
    {
     "data": {
      "text/plain": [
       "0.81233333333333335"
      ]
     },
     "execution_count": 163,
     "metadata": {},
     "output_type": "execute_result"
    }
   ],
   "source": [
    "old_lsvc.score(X_test, y_test)"
   ]
  },
  {
   "cell_type": "code",
   "execution_count": 164,
   "metadata": {
    "collapsed": false,
    "scrolled": false
   },
   "outputs": [
    {
     "name": "stdout",
     "output_type": "stream",
     "text": [
      "0806\n",
      "0806 七夕\n",
      "1 女\n",
      "10 月\n",
      "107\n",
      "11\n",
      "13 中華民國\n",
      "17\n",
      "19 陸\n",
      "2\n",
      "2 分鐘\n",
      "2 金\n",
      "20\n",
      "200\n",
      "2016\n",
      "3\n",
      "30\n",
      "300\n",
      "31\n",
      "36\n",
      "4 大\n",
      "40\n",
      "400\n",
      "45\n",
      "48\n",
      "5 成\n",
      "5 萬移\n",
      "50\n",
      "56 萬\n",
      "6\n",
      "65\n",
      "7\n",
      "7 天假\n",
      "7 萬\n",
      "72\n",
      "80\n",
      "90\n",
      "93\n",
      "a\n",
      "app\n",
      "av\n",
      "f\n",
      "go 新手\n",
      "gogoro\n",
      "h\n",
      "htc 宏達\n",
      "icao\n",
      "iphone 7\n",
      "is\n",
      "llb\n",
      "look\n",
      "note\n",
      "t\n",
      "taipei 名義\n",
      "uber\n",
      "一中\n",
      "一休\n",
      "一例 一休\n",
      "一切\n",
      "一句\n",
      "一夫一妻 傳宗接代\n",
      "一定 要\n",
      "一年\n",
      "一把抓\n",
      "一條龍\n",
      "一步\n",
      "七休\n",
      "七夕 情人節\n",
      "七天\n",
      "丈夫\n",
      "三年\n",
      "三年 李濤\n",
      "三星\n",
      "上任 多\n",
      "上帝 為\n",
      "下\n",
      "下 月\n",
      "下戰\n",
      "下戰 帖\n",
      "不\n",
      "不 分\n",
      "不 忠\n",
      "不 接受\n",
      "不 支持\n",
      "不 知道\n",
      "不來\n",
      "不公\n"
     ]
    },
    {
     "ename": "KeyboardInterrupt",
     "evalue": "",
     "output_type": "error",
     "traceback": [
      "\u001b[0;31m---------------------------------------------------------------------------\u001b[0m",
      "\u001b[0;31mKeyboardInterrupt\u001b[0m                         Traceback (most recent call last)",
      "\u001b[0;32m<ipython-input-164-bf4b6e960e0c>\u001b[0m in \u001b[0;36m<module>\u001b[0;34m()\u001b[0m\n\u001b[1;32m      1\u001b[0m \u001b[0;32mfor\u001b[0m \u001b[0mi\u001b[0m \u001b[0;32min\u001b[0m \u001b[0mmap\u001b[0m\u001b[0;34m(\u001b[0m\u001b[0;32mlambda\u001b[0m \u001b[0mx\u001b[0m\u001b[0;34m:\u001b[0m \u001b[0mx\u001b[0m\u001b[0;34m[\u001b[0m\u001b[0;36m0\u001b[0m\u001b[0;34m]\u001b[0m\u001b[0;34m,\u001b[0m \u001b[0mfilter\u001b[0m\u001b[0;34m(\u001b[0m\u001b[0;32mlambda\u001b[0m \u001b[0mx\u001b[0m\u001b[0;34m:\u001b[0m \u001b[0mx\u001b[0m\u001b[0;34m[\u001b[0m\u001b[0;36m1\u001b[0m\u001b[0;34m]\u001b[0m\u001b[0;34m==\u001b[0m\u001b[0;32mTrue\u001b[0m\u001b[0;34m,\u001b[0m \u001b[0menumerate\u001b[0m\u001b[0;34m(\u001b[0m\u001b[0mmodel\u001b[0m\u001b[0;34m.\u001b[0m\u001b[0mget_support\u001b[0m\u001b[0;34m(\u001b[0m\u001b[0;34m)\u001b[0m\u001b[0;34m)\u001b[0m\u001b[0;34m)\u001b[0m\u001b[0;34m)\u001b[0m\u001b[0;34m:\u001b[0m\u001b[0;34m\u001b[0m\u001b[0m\n\u001b[0;32m----> 2\u001b[0;31m     \u001b[0mprint\u001b[0m\u001b[0;34m(\u001b[0m\u001b[0mvectorizer\u001b[0m\u001b[0;34m.\u001b[0m\u001b[0mget_feature_names\u001b[0m\u001b[0;34m(\u001b[0m\u001b[0;34m)\u001b[0m\u001b[0;34m[\u001b[0m\u001b[0mi\u001b[0m\u001b[0;34m]\u001b[0m\u001b[0;34m)\u001b[0m\u001b[0;34m\u001b[0m\u001b[0m\n\u001b[0m",
      "\u001b[0;32m/usr/local/lib/python3.5/dist-packages/sklearn/feature_extraction/text.py\u001b[0m in \u001b[0;36mget_feature_names\u001b[0;34m(self)\u001b[0m\n\u001b[1;32m    911\u001b[0m \u001b[0;34m\u001b[0m\u001b[0m\n\u001b[1;32m    912\u001b[0m         return [t for t, i in sorted(six.iteritems(self.vocabulary_),\n\u001b[0;32m--> 913\u001b[0;31m                                      key=itemgetter(1))]\n\u001b[0m\u001b[1;32m    914\u001b[0m \u001b[0;34m\u001b[0m\u001b[0m\n\u001b[1;32m    915\u001b[0m \u001b[0;34m\u001b[0m\u001b[0m\n",
      "\u001b[0;31mKeyboardInterrupt\u001b[0m: "
     ]
    }
   ],
   "source": [
    "for i in map(lambda x: x[0], filter(lambda x: x[1]==True, enumerate(model.get_support()))):\n",
    "    print(vectorizer.get_feature_names()[i])"
   ]
  },
  {
   "cell_type": "code",
   "execution_count": 165,
   "metadata": {
    "collapsed": false
   },
   "outputs": [
    {
     "data": {
      "text/plain": [
       "1259"
      ]
     },
     "execution_count": 165,
     "metadata": {},
     "output_type": "execute_result"
    }
   ],
   "source": [
    "len(list(filter(lambda x: x[1]==True, enumerate(model.get_support()))))"
   ]
  },
  {
   "cell_type": "code",
   "execution_count": null,
   "metadata": {
    "collapsed": true
   },
   "outputs": [],
   "source": []
  }
 ],
 "metadata": {
  "kernelspec": {
   "display_name": "Python 3",
   "language": "python",
   "name": "python3"
  },
  "language_info": {
   "codemirror_mode": {
    "name": "ipython",
    "version": 3
   },
   "file_extension": ".py",
   "mimetype": "text/x-python",
   "name": "python",
   "nbconvert_exporter": "python",
   "pygments_lexer": "ipython3",
   "version": "3.5.2"
  }
 },
 "nbformat": 4,
 "nbformat_minor": 0
}
