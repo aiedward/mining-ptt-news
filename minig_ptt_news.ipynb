{
 "cells": [
  {
   "cell_type": "markdown",
   "metadata": {},
   "source": [
    "# Today's Coaches\n",
    "\n",
    "- [Mosky Liu](https://github.com/moskytw)\n",
    "- [Mei-Hua Pan](https://github.com/crazyplum)\n",
    "\n",
    "\n",
    "# The Code and Data\n",
    "\n",
    "- The code and the minimal data → https://github.com/moskytw/mining-news\n",
    "- The full data → ask from coaches.\n",
    "\n",
    "\n",
    "# Machine Learning Process\n",
    "\n",
    "This notebook will base on the process:\n",
    "\n",
    "1. Define Problem\n",
    "2. Prepare Data\n",
    "3. Train and Evaluate\n",
    "4. Deployment\n",
    "\n",
    "\n",
    "# Define Problem\n",
    "\n",
    "究竟一篇新聞在 PTT 會不會被噓呢？<br>\n",
    "↑ 太難用英文寫了，哈哈哈哈。\n",
    "\n",
    "<small>We will keep using English in this notebook, since most of the data mining documentations are written in English. You have to be used to it. 😆</small>\n",
    "\n",
    "## PTT Terms in English\n",
    "\n",
    "- 文章: article\n",
    "- 標題: title\n",
    "- 推文: push\n",
    "- 推: push score +1\n",
    "- 噓: push score -1\n",
    "- 被噓: sum(push scores) <= -1\n",
    "\n",
    "## Choosing Model(s)\n",
    "\n",
    "We are categorizing the articles. Simply pick some from the [cheat sheet](http://scikit-learn.org/stable/tutorial/machine_learning_map/index.html).\n",
    "\n",
    "\n",
    "# Prepare Data\n",
    "\n",
    "We prepared for you. Here we will let you know the scripts and the flow.\n",
    "\n",
    "## Crawl and Preprocess\n",
    "\n",
    "Download the HTML, and process them into JSON (∵ more machine-friendly).\n",
    "\n",
    "### 1. ptt_crawling.py\n",
    "\n",
    "(PTT web) → `cache/*.html`\n",
    "\n",
    "### 2. ptt_preproc_to_json.py\n",
    "\n",
    "`cache/*.html` → `preprocessed/*.json`\n",
    "\n",
    "### 3. ptt_preproc_filtering.py\n",
    "\n",
    "It removes articles whcih are out-of-range in `preprocessed/`. It configured to keep the articles during 2016/7–2016/11 (5 months).\n",
    "\n",
    "### 4. ptt_preproc_sampling.py\n",
    "\n",
    "It keeps 10,000 JSONs in `preprocessed/` for faster experiment.\n",
    "\n",
    "### 5. ptt_preproc_to_target.py\n",
    "\n",
    "`preprocessed/*.json` → `targets/*.txt`\n",
    "\n",
    "Each text file has a corresponding push score sum.\n",
    "\n",
    "### 6. ptt_corpus_tokenizer.py\n",
    "\n",
    "- tokenize: `preprocessed/*.json` → `corpus.txt`\n",
    "- `targets/*.txt` → `targets.txt`\n",
    "\n",
    "The `corpus.txt` will be the input, and `target.txt` will be the expected output.\n",
    "\n",
    "Now we only take the title to tokenize.\n",
    "\n",
    "#### Tokenizing\n",
    "\n",
    "We have used the libs to tokenize.\n",
    "\n",
    "1. [jieba](https://github.com/fxsjy/jieba) and its [tranditional Chinese dictionary](https://github.com/fxsjy/jieba#其他词典)\n",
    "2. [Zhon](https://github.com/tsroten/zhon)\n",
    "\n",
    "#### Command Line Usage Example\n",
    "\n",
    "    python3 ptt_corpus_tokenizer.py \\\n",
    "        --preprocessed-dir preprocessed/ \\\n",
    "        --targets-dir targets/ \\\n",
    "        --corpus-output corpus.txt \\\n",
    "        --target-output target.txt"
   ]
  },
  {
   "cell_type": "markdown",
   "metadata": {},
   "source": [
    "## Explore Data\n",
    "\n",
    "Now we get the well-formatted data. Before we start training a model, take a look to know them better.\n",
    "\n",
    "Here are two important theories to work with text:\n",
    "\n",
    "### tf-idf\n",
    "\n",
    "It's term frequency–inverse document frequency.\n",
    "\n",
    "- tf: term frequency = (a term count in a doc) / (all terms count in the doc)\n",
    "- df: document frequency = (docs count having the term) / (all docs count)\n",
    "- idf: inverse document frequency = log(1 / df)\n",
    "- tf-idf = tf × idf\n",
    "\n",
    "### n-gram\n",
    "\n",
    "An n-gram is a contiguous sequence of n items from a given sequence of text or speech.\n",
    "\n",
    "If the unit is a word,\n",
    "\n",
    "- 1-gram: to be or not to be → to, be, or, not, to, be (same)\n",
    "- 2-gram: to be or not to be → to be, be or, or not, not to, to be\n",
    "- etc.\n",
    "\n",
    "And the docs entries:\n",
    "\n",
    "### Pandas, NumPy, and SciPy\n",
    "\n",
    "We will use them a bit, but won't explain them too much, please refer to the docs:\n",
    "\n",
    "- [pandas API Reference](http://pandas.pydata.org/pandas-docs/stable/api.html)\n",
    "- [NumPy Reference](https://docs.scipy.org/doc/numpy/reference/)\n",
    "- [SciPy Reference Guide](https://docs.scipy.org/doc/scipy/reference/)\n",
    "\n",
    "Or the tutorials:\n",
    "\n",
    "- [10 Minutes to pandas](http://pandas.pydata.org/pandas-docs/stable/10min.html)\n",
    "- [NumPy Quickstart Tutorial](https://docs.scipy.org/doc/numpy-dev/user/quickstart.html)\n",
    "- [SciPy Tutorial](https://docs.scipy.org/doc/scipy/reference/tutorial/index.html)\n",
    "\n",
    "### See Also\n",
    "\n",
    "1. [EDA, Exploratory data analysis – Wikipedia](https://en.wikipedia.org/wiki/Exploratory_data_analysis)\n",
    "2. [Tf-idf – Example – Wikipedia](https://en.wikipedia.org/wiki/Tf%E2%80%93idf#Example_of_tf.E2.80.93idf)\n",
    "3. [N-gram – Example – Wikipedia](https://en.wikipedia.org/wiki/N-gram#Examples)\n",
    "4. [Text Feature Extraction – scikit-learn](http://scikit-learn.org/stable/modules/feature_extraction.html#text-feature-extraction)"
   ]
  },
  {
   "cell_type": "code",
   "execution_count": 1,
   "metadata": {},
   "outputs": [],
   "source": [
    "# init for plotting\n",
    "\n",
    "%matplotlib inline\n",
    "import matplotlib\n",
    "matplotlib.style.use('ggplot')\n",
    "\n",
    "# init the utils\n",
    "\n",
    "import numpy as np\n",
    "import pandas as pd"
   ]
  },
  {
   "cell_type": "markdown",
   "metadata": {},
   "source": [
    "### Explore the Terms\n",
    "\n",
    "What are the important terms?\n",
    "\n",
    "#### The First Try"
   ]
  },
  {
   "cell_type": "code",
   "execution_count": 2,
   "metadata": {},
   "outputs": [],
   "source": [
    "from sklearn.feature_extraction.text import CountVectorizer\n",
    "\n",
    "# doc: http://scikit-learn.org/stable/modules/generated/sklearn.feature_extraction.text.CountVectorizer.html\n",
    "vectorizer = CountVectorizer(\n",
    "    # the default regex select tokens of 2+ alphanumeric characters\n",
    "    # it filters 催 停 到 from 催 太猛 停車 停 到 衝進 藥局,\n",
    "    # but they are significant in Chinese, we rewrite a regex here\n",
    "    token_pattern=r'(?u)\\b\\w+\\b',\n",
    "    # unigram and bigram\n",
    "    # unigram: 催 / 太猛 / 衝進 -> 催 / 太猛 / 衝進\n",
    "    # bigram: 催 / 太猛 / 衝進 -> 催 太猛 / 太猛 衝進\n",
    "    ngram_range=(1, 2)\n",
    ")"
   ]
  },
  {
   "cell_type": "code",
   "execution_count": 3,
   "metadata": {},
   "outputs": [
    {
     "name": "stdout",
     "output_type": "stream",
     "text": [
      "['中午', '中午 吃', '什麼', '吃', '吃 什麼', '急症', '急症 沒錢醫', '新聞', '新聞 中午', '新聞 急症', '沒錢醫']\n",
      "[[1 1 1 1 1 0 0 1 1 0 0]\n",
      " [0 0 0 0 0 1 1 1 0 1 1]]\n"
     ]
    }
   ],
   "source": [
    "# smat: sparse matrix\n",
    "input_term_count_smat = vectorizer.fit_transform([\n",
    "    '新聞 中午 吃 什麼',\n",
    "    '新聞 急症 沒錢醫',\n",
    "])\n",
    "\n",
    "print(vectorizer.get_feature_names())\n",
    "# rows are inputs\n",
    "# columns are counts of a feature\n",
    "print(input_term_count_smat.toarray())"
   ]
  },
  {
   "cell_type": "code",
   "execution_count": 4,
   "metadata": {},
   "outputs": [
    {
     "name": "stdout",
     "output_type": "stream",
     "text": [
      "新聞 被控 電影院 毆女 知名 中學 前 家長 會長 反擊\n",
      "新聞 E 奶 女星 痛 譙 變態 秦偉 之亂 暴增 6 名 受害者\n",
      "新聞 Hebe 生活 影片 宣傳 新作 粉絲 想 看 洗澡 反\n"
     ]
    }
   ],
   "source": [
    "with open('corpus.txt') as f:\n",
    "    print(next(f), end='')\n",
    "    print(next(f), end='')\n",
    "    print(next(f), end='')"
   ]
  },
  {
   "cell_type": "code",
   "execution_count": 5,
   "metadata": {},
   "outputs": [],
   "source": [
    "with open('corpus.txt') as f:\n",
    "    input_term_count_smat = vectorizer.fit_transform(f)"
   ]
  },
  {
   "cell_type": "code",
   "execution_count": 6,
   "metadata": {},
   "outputs": [],
   "source": [
    "# mat: matrix\n",
    "term_count_mat = input_term_count_smat.sum(axis=0)\n",
    "term_count_arr = np.asarray(term_count_mat).reshape(-1)\n",
    "sorted_term_count_arr = np.sort(term_count_arr)"
   ]
  },
  {
   "cell_type": "code",
   "execution_count": 7,
   "metadata": {},
   "outputs": [
    {
     "data": {
      "text/plain": [
       "<matplotlib.axes._subplots.AxesSubplot at 0x110c45f98>"
      ]
     },
     "execution_count": 7,
     "metadata": {},
     "output_type": "execute_result"
    },
    {
     "data": {
      "image/png": "[encoded data removed]",
      "text/plain": [
       "<matplotlib.figure.Figure at 0x10c93df60>"
      ]
     },
     "metadata": {},
     "output_type": "display_data"
    }
   ],
   "source": [
    "# doc: http://pandas.pydata.org/pandas-docs/stable/visualization.html\n",
    "sorted_term_count_s = pd.Series(sorted_term_count_arr)\n",
    "sorted_term_count_s.plot()"
   ]
  },
  {
   "cell_type": "code",
   "execution_count": 8,
   "metadata": {},
   "outputs": [
    {
     "data": {
      "text/plain": [
       "count    100356.000000\n",
       "mean          1.864861\n",
       "std          32.213412\n",
       "min           1.000000\n",
       "25%           1.000000\n",
       "50%           1.000000\n",
       "75%           1.000000\n",
       "max       10005.000000\n",
       "dtype: float64"
      ]
     },
     "execution_count": 8,
     "metadata": {},
     "output_type": "execute_result"
    }
   ],
   "source": [
    "sorted_term_count_s.describe()"
   ]
  },
  {
   "cell_type": "code",
   "execution_count": 9,
   "metadata": {},
   "outputs": [
    {
     "data": {
      "text/plain": [
       "set()"
      ]
     },
     "execution_count": 9,
     "metadata": {},
     "output_type": "execute_result"
    }
   ],
   "source": [
    "vectorizer.stop_words_"
   ]
  },
  {
   "cell_type": "code",
   "execution_count": 10,
   "metadata": {},
   "outputs": [
    {
     "name": "stdout",
     "output_type": "stream",
     "text": [
      "Top 10 terms and counts:\n",
      "\n",
      "新聞 10005\n",
      "被 564\n",
      "的 518\n",
      "了 429\n",
      "不 378\n",
      "是 347\n",
      "人 309\n",
      "蔡 287\n",
      "台灣 279\n"
     ]
    }
   ],
   "source": [
    "feature_names = vectorizer.get_feature_names()\n",
    "sorted_term_idx_arr = np.argsort(term_count_arr)\n",
    "\n",
    "n = 10\n",
    "\n",
    "print('Top', n, 'terms and counts:')\n",
    "print()\n",
    "for term_idx in sorted_term_idx_arr[:-n:-1]:\n",
    "    print(feature_names[term_idx], term_count_arr[term_idx])"
   ]
  },
  {
   "cell_type": "markdown",
   "metadata": {},
   "source": [
    "#### The Second Try"
   ]
  },
  {
   "cell_type": "code",
   "execution_count": 11,
   "metadata": {},
   "outputs": [
    {
     "data": {
      "text/plain": [
       "<matplotlib.axes._subplots.AxesSubplot at 0x110c41438>"
      ]
     },
     "execution_count": 11,
     "metadata": {},
     "output_type": "execute_result"
    },
    {
     "data": {
      "image/png": "[encoded data removed]",
      "text/plain": [
       "<matplotlib.figure.Figure at 0x1122bcdd8>"
      ]
     },
     "metadata": {},
     "output_type": "display_data"
    }
   ],
   "source": [
    "vectorizer_2 = CountVectorizer(\n",
    "    min_df=1, max_df=0.5,\n",
    "    token_pattern=r'(?u)\\b\\w+\\b',\n",
    "    ngram_range=(1, 2)\n",
    ")\n",
    "\n",
    "with open('corpus.txt') as f:\n",
    "    input_term_count_smat_2 = vectorizer_2.fit_transform(f)\n",
    "    \n",
    "term_count_mat_2 = input_term_count_smat_2.sum(axis=0)\n",
    "term_count_arr_2 = np.asarray(term_count_mat_2).reshape(-1)\n",
    "sorted_term_count_arr_2 = np.sort(term_count_arr_2)\n",
    "\n",
    "sorted_term_count_s_2 = pd.Series(sorted_term_count_arr_2)\n",
    "sorted_term_count_s_2.plot()"
   ]
  },
  {
   "cell_type": "code",
   "execution_count": 12,
   "metadata": {},
   "outputs": [
    {
     "data": {
      "text/plain": [
       "count    100355.000000\n",
       "mean          1.765184\n",
       "std           6.372356\n",
       "min           1.000000\n",
       "25%           1.000000\n",
       "50%           1.000000\n",
       "75%           1.000000\n",
       "max         564.000000\n",
       "dtype: float64"
      ]
     },
     "execution_count": 12,
     "metadata": {},
     "output_type": "execute_result"
    }
   ],
   "source": [
    "sorted_term_count_s_2.describe()"
   ]
  },
  {
   "cell_type": "code",
   "execution_count": 13,
   "metadata": {},
   "outputs": [
    {
     "data": {
      "text/plain": [
       "{'新聞'}"
      ]
     },
     "execution_count": 13,
     "metadata": {},
     "output_type": "execute_result"
    }
   ],
   "source": [
    "vectorizer_2.stop_words_"
   ]
  },
  {
   "cell_type": "code",
   "execution_count": 14,
   "metadata": {
    "scrolled": true
   },
   "outputs": [
    {
     "name": "stdout",
     "output_type": "stream",
     "text": [
      "Top 10 terms and counts:\n",
      "\n",
      "被 564\n",
      "的 518\n",
      "了 429\n",
      "不 378\n",
      "是 347\n",
      "人 309\n",
      "蔡 287\n",
      "台灣 279\n",
      "遭 270\n"
     ]
    }
   ],
   "source": [
    "feature_names = vectorizer_2.get_feature_names()\n",
    "sorted_term_idx_arr = np.argsort(term_count_arr_2)\n",
    "\n",
    "n = 10\n",
    "\n",
    "print('Top', n, 'terms and counts:')\n",
    "print()\n",
    "for term_idx in sorted_term_idx_arr[:-n:-1]:\n",
    "    print(feature_names[term_idx], term_count_arr_2[term_idx])"
   ]
  },
  {
   "cell_type": "markdown",
   "metadata": {},
   "source": [
    "### Explore the Push Score Sums\n",
    "\n",
    "What are the output we wanna predict?"
   ]
  },
  {
   "cell_type": "code",
   "execution_count": 15,
   "metadata": {},
   "outputs": [
    {
     "name": "stdout",
     "output_type": "stream",
     "text": [
      "12\n",
      "21\n",
      "4\n"
     ]
    }
   ],
   "source": [
    "with open('target.txt') as f:\n",
    "    print(next(f), end='')\n",
    "    print(next(f), end='')\n",
    "    print(next(f), end='')"
   ]
  },
  {
   "cell_type": "code",
   "execution_count": 16,
   "metadata": {},
   "outputs": [],
   "source": [
    "with open('target.txt') as f:\n",
    "    push_score_sums = [int(line) for line in f]"
   ]
  },
  {
   "cell_type": "code",
   "execution_count": 17,
   "metadata": {},
   "outputs": [
    {
     "data": {
      "text/plain": [
       "<matplotlib.axes._subplots.AxesSubplot at 0x113be4588>"
      ]
     },
     "execution_count": 17,
     "metadata": {},
     "output_type": "execute_result"
    },
    {
     "data": {
      "image/png": "[encoded data removed]",
      "text/plain": [
       "<matplotlib.figure.Figure at 0x1122bcc18>"
      ]
     },
     "metadata": {},
     "output_type": "display_data"
    }
   ],
   "source": [
    "push_score_sum_s = pd.Series(push_score_sums)\n",
    "push_score_sum_s.plot.hist(bins=100)"
   ]
  },
  {
   "cell_type": "code",
   "execution_count": 18,
   "metadata": {},
   "outputs": [
    {
     "data": {
      "text/plain": [
       "count    10000.000000\n",
       "mean        15.098200\n",
       "std         44.458338\n",
       "min       -392.000000\n",
       "25%          1.000000\n",
       "50%          7.000000\n",
       "75%         18.000000\n",
       "max        630.000000\n",
       "dtype: float64"
      ]
     },
     "execution_count": 18,
     "metadata": {},
     "output_type": "execute_result"
    }
   ],
   "source": [
    "push_score_sum_s.describe()"
   ]
  },
  {
   "cell_type": "markdown",
   "metadata": {},
   "source": [
    "# Train and Evaluate\n",
    "\n",
    "## Load Input and Expected Output In\n",
    "\n",
    "Use the findings from the previous section."
   ]
  },
  {
   "cell_type": "code",
   "execution_count": 19,
   "metadata": {},
   "outputs": [],
   "source": [
    "from sklearn.feature_extraction.text import TfidfVectorizer\n",
    "\n",
    "# doc: http://scikit-learn.org/stable/modules/generated/sklearn.feature_extraction.text.TfidfVectorizer.html\n",
    "vectorizer = TfidfVectorizer(\n",
    "    min_df=1, max_df=0.5,\n",
    "    token_pattern=r'(?u)\\b\\w+\\b',\n",
    "    ngram_range=(1, 2)\n",
    ")\n",
    "\n",
    "with open('corpus.txt') as f:\n",
    "    X = vectorizer.fit_transform(f)\n",
    "    \n",
    "with open('target.txt') as f:\n",
    "    # let's use -1 to represent 被噓, and 0 for other cases\n",
    "    y = [-1 if int(line) <= -1 else 0 for line in f]"
   ]
  },
  {
   "cell_type": "markdown",
   "metadata": {},
   "source": [
    "## Split Training Set and Testing Set\n",
    "\n",
    "We split some for training model, some for validating. "
   ]
  },
  {
   "cell_type": "code",
   "execution_count": 20,
   "metadata": {},
   "outputs": [],
   "source": [
    "from sklearn.model_selection import train_test_split\n",
    "\n",
    "# doc: http://scikit-learn.org/stable/modules/generated/sklearn.model_selection.train_test_split.html\n",
    "X_train, X_test, y_train, y_test = train_test_split(X, y, test_size=0.3, random_state=0)"
   ]
  },
  {
   "cell_type": "markdown",
   "metadata": {},
   "source": [
    "## First Try\n",
    "\n",
    "SVM: [Support Vector Machines – scikit-learn](http://scikit-learn.org/stable/modules/svm.html#support-vector-machines)\n",
    "\n",
    "### SVM's Hyper-Plane\n",
    "\n",
    "![SVM's Hyper-Plane](http://scikit-learn.org/stable/_images/sphx_glr_plot_separating_hyperplane_0011.png)"
   ]
  },
  {
   "cell_type": "code",
   "execution_count": 21,
   "metadata": {},
   "outputs": [
    {
     "name": "stdout",
     "output_type": "stream",
     "text": [
      "SVC\n",
      "\n",
      "CPU times: user 8.59 s, sys: 228 ms, total: 8.82 s\n",
      "Wall time: 8.93 s\n",
      "\n",
      "Traning Set Accuracy: 0.993857142857\n",
      "Validation Accuracy: 0.810333333333\n",
      "\n",
      "             precision    recall  f1-score   support\n",
      "\n",
      "         -1       0.56      0.25      0.35       603\n",
      "          0       0.83      0.95      0.89      2397\n",
      "\n",
      "avg / total       0.78      0.81      0.78      3000\n",
      "\n"
     ]
    }
   ],
   "source": [
    "from sklearn import svm\n",
    "from sklearn.metrics import classification_report\n",
    "\n",
    "# doc: http://scikit-learn.org/stable/modules/generated/sklearn.svm.SVC.html\n",
    "svc = svm.SVC(kernel='linear', C=1, class_weight='balanced')\n",
    "\n",
    "print('SVC')\n",
    "print()\n",
    "\n",
    "%time svc.fit(X_train, y_train)\n",
    "print()\n",
    "\n",
    "# doc: http://scikit-learn.org/stable/modules/model_evaluation.html#accuracy-score\n",
    "print('Traning Set Accuracy:', svc.score(X_train, y_train))\n",
    "print('Validation Accuracy:', svc.score(X_test, y_test))\n",
    "print()\n",
    "\n",
    "print(classification_report(y_test, svc.predict(X_test)))"
   ]
  },
  {
   "cell_type": "markdown",
   "metadata": {},
   "source": [
    "### Precision and Recall\n",
    "\n",
    "![Precision and Recall](https://upload.wikimedia.org/wikipedia/commons/2/26/Precisionrecall.svg)\n",
    "\n",
    "### F1 Score\n",
    "\n",
    "![F1Score](https://wikimedia.org/api/rest_v1/media/math/render/svg/7d63c1f5c659f95b5dfe5893213cc8ea7f8bea0a)\n",
    "\n",
    "A F1 score is the harmonic mean of precision and recall. See [F1 score](https://en.wikipedia.org/wiki/F1_score) for details."
   ]
  },
  {
   "cell_type": "markdown",
   "metadata": {},
   "source": [
    "## Explore the Trained Model\n",
    "\n",
    "Know the data even deeper."
   ]
  },
  {
   "cell_type": "code",
   "execution_count": 22,
   "metadata": {},
   "outputs": [],
   "source": [
    "class_i = 0\n",
    "n = 10\n",
    "\n",
    "feature_names = vectorizer.get_feature_names()\n",
    "sorted_feature_idx_arr = np.argsort(svc.coef_.toarray())[class_i]"
   ]
  },
  {
   "cell_type": "code",
   "execution_count": 23,
   "metadata": {},
   "outputs": [
    {
     "name": "stdout",
     "output_type": "stream",
     "text": [
      "Top 10 positive features:\n",
      "\n",
      "美 1.49081155042\n",
      "20 1.19937534089\n",
      "泰國 1.18790931177\n",
      "美國 1.11804937332\n",
      "抗議 1.01609857754\n",
      "日本 0.992017621316\n",
      "年 0.93827629264\n",
      "杜特蒂 0.91317068476\n",
      "反同 0.909715194003\n",
      "\n",
      "Top 10 negative features:\n",
      "\n",
      "歐陽 -2.61933393496\n",
      "吳秉叡 -2.55979999573\n",
      "小s -2.52602534262\n",
      "洪秀柱 -2.5077794054\n",
      "黑人 -2.33544331716\n",
      "兩岸 -2.28616224413\n",
      "柯建銘 -2.06086631084\n",
      "小英 -2.00811527009\n",
      "勞動部 -2.0025928574\n",
      "蔡 -1.98853279842\n"
     ]
    }
   ],
   "source": [
    "print('Top', n, 'positive features:')\n",
    "print()\n",
    "\n",
    "for fidx in sorted_feature_idx_arr[:-n:-1]:\n",
    "    print(feature_names[fidx], svc.coef_[class_i, fidx])\n",
    "    \n",
    "print()\n",
    "    \n",
    "print('Top', n, 'negative features:')\n",
    "print()\n",
    "\n",
    "for fidx in sorted_feature_idx_arr[:n]:\n",
    "    print(feature_names[fidx], svc.coef_[class_i, fidx])"
   ]
  },
  {
   "cell_type": "markdown",
   "metadata": {},
   "source": [
    "## Feature Selection\n",
    "\n",
    "Improve models' accuracy scores or to boost their performance – [Feature Selection - scikit-learn](http://scikit-learn.org/stable/modules/feature_selection.html#feature-selection)."
   ]
  },
  {
   "cell_type": "code",
   "execution_count": 24,
   "metadata": {},
   "outputs": [
    {
     "name": "stdout",
     "output_type": "stream",
     "text": [
      "Linear SVC\n",
      "\n",
      "CPU times: user 227 ms, sys: 14.7 ms, total: 242 ms\n",
      "Wall time: 297 ms\n",
      "\n",
      "Training Set Shape: (7000, 100355)\n",
      "Traning Set Accuracy: 0.877142857143\n",
      "Validation Accuracy: 0.811\n",
      "\n",
      "             precision    recall  f1-score   support\n",
      "\n",
      "         -1       0.59      0.20      0.30       603\n",
      "          0       0.83      0.96      0.89      2397\n",
      "\n",
      "avg / total       0.78      0.81      0.77      3000\n",
      "\n"
     ]
    }
   ],
   "source": [
    "# doc: http://scikit-learn.org/stable/modules/generated/sklearn.svm.LinearSVC.html\n",
    "lsvc = svm.LinearSVC(C=1, penalty='l1', dual=False)\n",
    "\n",
    "print('Linear SVC')\n",
    "print()\n",
    "\n",
    "%time lsvc.fit(X_train, y_train)\n",
    "print()\n",
    "\n",
    "print('Training Set Shape:', X_train.shape)\n",
    "print('Traning Set Accuracy:', lsvc.score(X_train, y_train))\n",
    "print('Validation Accuracy:', lsvc.score(X_test, y_test))\n",
    "print()\n",
    "\n",
    "print(classification_report(y_test, lsvc.predict(X_test)))"
   ]
  },
  {
   "cell_type": "code",
   "execution_count": 25,
   "metadata": {},
   "outputs": [
    {
     "name": "stdout",
     "output_type": "stream",
     "text": [
      "Linear SVC #2\n",
      "\n",
      "CPU times: user 26.5 ms, sys: 592 µs, total: 27.1 ms\n",
      "Wall time: 27.7 ms\n",
      "\n",
      "Training Set Shape: (7000, 1264)\n",
      "Traning Set Accuracy: 0.877142857143\n",
      "Validation Accuracy: 0.811\n",
      "\n",
      "             precision    recall  f1-score   support\n",
      "\n",
      "         -1       0.59      0.20      0.30       603\n",
      "          0       0.83      0.96      0.89      2397\n",
      "\n",
      "avg / total       0.78      0.81      0.77      3000\n",
      "\n"
     ]
    }
   ],
   "source": [
    "from sklearn.feature_selection import SelectFromModel\n",
    "\n",
    "# doc: http://scikit-learn.org/stable/modules/generated/sklearn.feature_selection.SelectFromModel.html\n",
    "sfm = SelectFromModel(lsvc, prefit=True)\n",
    "X_train_2 = sfm.transform(X_train)\n",
    "X_test_2 = sfm.transform(X_test)\n",
    "\n",
    "lsvc_2 = svm.LinearSVC(C=1, penalty='l1', dual=False)\n",
    "\n",
    "print('Linear SVC #2')\n",
    "print()\n",
    "\n",
    "%time lsvc_2.fit(X_train_2, y_train)\n",
    "print()\n",
    "\n",
    "print('Training Set Shape:', X_train_2.shape)\n",
    "print('Traning Set Accuracy:', lsvc_2.score(X_train_2, y_train))\n",
    "print('Validation Accuracy:', lsvc_2.score(X_test_2, y_test))\n",
    "print()\n",
    "\n",
    "print(classification_report(y_test, lsvc_2.predict(X_test_2)))"
   ]
  },
  {
   "cell_type": "markdown",
   "metadata": {},
   "source": [
    "## Model Selection\n",
    "\n",
    "Select the best model. See [Model Selection – scikit-learn](http://scikit-learn.org/stable/model_selection.html) for the full doc."
   ]
  },
  {
   "cell_type": "code",
   "execution_count": 26,
   "metadata": {},
   "outputs": [
    {
     "name": "stdout",
     "output_type": "stream",
     "text": [
      "Grid Search CV on LinearSVC\n",
      "\n",
      "CPU times: user 16.7 s, sys: 201 ms, total: 16.9 s\n",
      "Wall time: 18.7 s\n",
      "\n",
      "Best Parameters: {'C': 100}\n",
      "Best Traning Set Accuracy: 0.818428571429\n"
     ]
    }
   ],
   "source": [
    "from sklearn.model_selection import GridSearchCV\n",
    "\n",
    "# CV: Cross-Validation, http://scikit-learn.org/stable/modules/cross_validation.html\n",
    "# Grid Search: http://scikit-learn.org/stable/modules/grid_search.html\n",
    "# doc: http://scikit-learn.org/stable/modules/generated/sklearn.model_selection.GridSearchCV.html\n",
    "gscv = GridSearchCV(\n",
    "    svm.LinearSVC(),\n",
    "    {'C': [1, 10, 100, 1000]},\n",
    "    cv=5\n",
    ")\n",
    "\n",
    "print('Grid Search CV on LinearSVC')\n",
    "print()\n",
    "\n",
    "%time gscv.fit(X_train, y_train)\n",
    "print()\n",
    "\n",
    "print('Best Parameters:', gscv.best_params_)\n",
    "print('Best Traning Set Accuracy:', gscv.best_score_)"
   ]
  },
  {
   "cell_type": "code",
   "execution_count": 27,
   "metadata": {},
   "outputs": [
    {
     "name": "stdout",
     "output_type": "stream",
     "text": [
      "Best Linear SVC\n",
      "\n",
      "CPU times: user 1.34 s, sys: 6.16 ms, total: 1.35 s\n",
      "Wall time: 1.35 s\n",
      "\n",
      "Traning Set Accuracy: 0.999\n",
      "Validation Accuracy: 0.813666666667\n",
      "\n",
      "             precision    recall  f1-score   support\n",
      "\n",
      "         -1       0.60      0.21      0.31       603\n",
      "          0       0.83      0.96      0.89      2397\n",
      "\n",
      "avg / total       0.78      0.81      0.78      3000\n",
      "\n"
     ]
    }
   ],
   "source": [
    "best_lsvc = svm.LinearSVC(**gscv.best_params_)\n",
    "\n",
    "print('Best Linear SVC')\n",
    "print()\n",
    "\n",
    "%time best_lsvc.fit(X_train, y_train)\n",
    "print()\n",
    "\n",
    "print('Traning Set Accuracy:', best_lsvc.score(X_train, y_train))\n",
    "print('Validation Accuracy:', best_lsvc.score(X_test, y_test))\n",
    "print()\n",
    "\n",
    "print(classification_report(y_test, best_lsvc.predict(X_test)))"
   ]
  },
  {
   "cell_type": "markdown",
   "metadata": {},
   "source": [
    "# Your Turn\n",
    "\n",
    "1. Try to use [.predict](http://scikit-learn.org/stable/modules/generated/sklearn.svm.LinearSVC.html#sklearn.svm.LinearSVC.predict) to predict an unknown news.\n",
    "2. Add more features? e.g., adding `author_id` by [Dict Vectorizer](http://scikit-learn.org/stable/modules/feature_extraction.html#dict-feature-extraction).\n",
    "3. Predict more categories? e.g., sum(push scores) >= 10.\n",
    "4. Try other kernel of SVM? e.g., [RBF](http://scikit-learn.org/stable/modules/svm.html#svm-kernels).\n",
    "\n",
    "# References\n",
    "\n",
    "1. Supervised Machine Learning – why & how to apply by 朱伯憲\n",
    "2. [Data mining – process – Wikipedia](https://en.wikipedia.org/wiki/Data_mining#Process)"
   ]
  },
  {
   "cell_type": "code",
   "execution_count": 28,
   "metadata": {},
   "outputs": [
    {
     "name": "stderr",
     "output_type": "stream",
     "text": [
      "Building prefix dict from the default dictionary ...\n",
      "Loading model from cache /var/folders/b2/yfs3c8615jj6xq25081vvk7r0000gn/T/jieba.cache\n",
      "Loading model cost 1.163 seconds.\n",
      "Prefix dict has been built succesfully.\n"
     ]
    },
    {
     "data": {
      "text/plain": [
       "array([ 0, -1,  0])"
      ]
     },
     "execution_count": 28,
     "metadata": {},
     "output_type": "execute_result"
    }
   ],
   "source": [
    "from ptt_corpus_tokenizer import preprocess_and_tokenizie\n",
    "best_lsvc.predict(vectorizer.transform([\n",
    "    preprocess_and_tokenizie('[新聞] 爭風吃醋！國中生臉書約談判　持西瓜刀'),\n",
    "    preprocess_and_tokenizie('[新聞] 「炫妻狂魔」黑人狂PO范范美照　引古詞讚'),\n",
    "    preprocess_and_tokenizie('[新聞] 分手後驚覺懷孕！前女友轉生氣　怒告男：'),\n",
    "]))"
   ]
  }
 ],
 "metadata": {
  "kernelspec": {
   "display_name": "Python 3 (mining-news)",
   "language": "python",
   "name": "python3-mining-news"
  },
  "language_info": {
   "codemirror_mode": {
    "name": "ipython",
    "version": 3
   },
   "file_extension": ".py",
   "mimetype": "text/x-python",
   "name": "python",
   "nbconvert_exporter": "python",
   "pygments_lexer": "ipython3",
   "version": "3.6.3"
  },
  "toc": {
   "nav_menu": {},
   "number_sections": true,
   "sideBar": true,
   "skip_h1_title": true,
   "toc_cell": false,
   "toc_position": {},
   "toc_section_display": "block",
   "toc_window_display": false
  }
 },
 "nbformat": 4,
 "nbformat_minor": 2
}
